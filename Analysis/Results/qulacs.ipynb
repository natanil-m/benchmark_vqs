{
 "cells": [
  {
   "cell_type": "code",
   "execution_count": 1,
   "metadata": {},
   "outputs": [],
   "source": [
    "import os\n",
    "import re\n",
    "def extract(file_path):\n",
    "    \n",
    "    n_qubits=0\n",
    "    cpu_mem =0\n",
    "    gpu_mem = 0\n",
    "    time=0\n",
    "    \n",
    "    \n",
    "    \n",
    "    # Open the file and read its contents\n",
    "    with open(file_path, 'r') as file:\n",
    "        content = file.read()\n",
    "\n",
    "    # Extract other information\n",
    "    qubits_pattern = re.compile(r'number of qubits =\\s+(\\d+)', re.IGNORECASE)\n",
    "    qubits_match = re.search(qubits_pattern, content)\n",
    "    if qubits_match:\n",
    "        num_qubits = int(qubits_match.group(1))\n",
    "        n_qubits = num_qubits\n",
    "        # print(\"Number of qubits:\", num_qubits)\n",
    "\n",
    "    layers_pattern = re.compile(r'number of layers =\\s+(\\d+)', re.IGNORECASE)\n",
    "    layers_match = re.search(layers_pattern, content)\n",
    "    if layers_match:\n",
    "        num_layers = int(layers_match.group(1))\n",
    "        # print(\"Number of layers:\", num_layers)\n",
    "\n",
    "\n",
    "    time_pattern = re.compile(r'time consumed: ([0-9.]+)s', re.IGNORECASE)\n",
    "    time_match = re.search(time_pattern, content)\n",
    "    if time_match:\n",
    "        time_consumed = float(time_match.group(1))\n",
    "        # time = float(time_consumed)\n",
    "        time=round(time_consumed, 2)\n",
    "        # print(\"Time consumed:\", time_consumed, \"s\")\n",
    "\n",
    "    cpu_memory_pattern = re.compile(r'CPU Memory usage : \\((\\d+), (\\d+)\\)', re.IGNORECASE)\n",
    "    cpu_memory_match = re.search(cpu_memory_pattern, content)\n",
    "    if cpu_memory_match:\n",
    "        cpu_memory_usage = (int(cpu_memory_match.group(1)), int(cpu_memory_match.group(2)))\n",
    "        # print(cpu_memory_usage[1]/1000000)\n",
    "        # print(\"CPU Memory usage:\", cpu_memory_usage)\n",
    "        # cpu_mem=float(cpu_memory_usage[1]/(2**20))\n",
    "        cpu_mem=round(cpu_memory_usage[1] / (2 ** 20), 2)\n",
    "        # cpu_mem=float(cpu_memory_usage[1]/(10**6))\n",
    "\n",
    "    gpu_memory_pattern = re.compile(r'GPU memory usage: (\\d+) MiB', re.IGNORECASE)\n",
    "    gpu_memory_match = re.search(gpu_memory_pattern, content)\n",
    "    if gpu_memory_match:\n",
    "        gpu_memory_usage = int(gpu_memory_match.group(1))\n",
    "        gpu_mem = gpu_memory_usage\n",
    "        # print(\"GPU Memory usage:\", gpu_memory_usage, \"MiB\")\n",
    "    \n",
    "    return n_qubits,time,cpu_mem,gpu_mem,cpu_mem+gpu_mem\n"
   ]
  },
  {
   "cell_type": "code",
   "execution_count": 2,
   "metadata": {},
   "outputs": [
    {
     "name": "stdout",
     "output_type": "stream",
     "text": [
      "{4: [0.0, 0.01], 17: [0.5, 0.01], 25: [143.95, 0.02], 6: [0.0, 0.01], 5: [0.0, 0.01], 8: [0.0, 0.01], 29: [3201.01, 0.02], 27: [498.72, 0.02], 11: [0.0, 0.01], 20: [1.63, 0.01], 14: [0.02, 0.01], 21: [5.65, 0.01], 23: [26.63, 0.01], 22: [12.52, 0.01], 15: [0.04, 0.01], 7: [0.0, 0.01], 26: [275.42, 0.02], 28: [954.99, 0.02], 9: [0.24, 0.01], 10: [0.24, 0.01], 16: [0.42, 0.01], 13: [0.01, 0.01], 24: [73.18, 0.02], 18: [0.36, 0.01], 19: [0.75, 0.01], 30: [5927.15, 0.02]}\n",
      "Data saved to qulacs.ConeSimulator.xlsx\n"
     ]
    }
   ],
   "source": [
    "data = {}\n",
    "\n",
    "y_runtime_pennylane = []\n",
    "y_memory_pennylane_cpu = []\n",
    "\n",
    "device = 'ConeSimulator'\n",
    "\n",
    "# Specify the folder path\n",
    "folder_path = '../qulacs/'+device\n",
    "\n",
    "# List all files in the folder\n",
    "files = os.listdir(folder_path)\n",
    "\n",
    "# Run the extract function on each file\n",
    "for file in files:\n",
    "    file_path = os.path.join(folder_path, file)\n",
    "    # print(file_path)\n",
    "    info=extract(file_path)\n",
    "    if(info[0]!=0):\n",
    "        # print(info)\n",
    "        data[info[0]]=[info[1],info[2]]\n",
    "        \n",
    "print(data)\n",
    "import pandas as pd\n",
    "sorted_data = dict(sorted(data.items()))\n",
    "df = pd.DataFrame.from_dict(sorted_data, orient='index', columns=['Runtime(Seconds)', 'Memory(MiB)'])\n",
    "df.index.name = 'Key'\n",
    "\n",
    "filename = 'qulacs.'+device+'.xlsx'\n",
    "df.to_excel(filename)\n",
    "print(f\"Data saved to {filename}\")"
   ]
  },
  {
   "cell_type": "code",
   "execution_count": 3,
   "metadata": {},
   "outputs": [
    {
     "data": {
      "image/png": "[encoded data removed]",
      "text/plain": [
       "<Figure size 640x480 with 1 Axes>"
      ]
     },
     "metadata": {},
     "output_type": "display_data"
    }
   ],
   "source": [
    "import matplotlib.pyplot as plt\n",
    "\n",
    "\n",
    "# Extract x and y values from dict1\n",
    "x1 = list(data.keys())\n",
    "x1.sort()\n",
    "y1 = [data[x][1] for x in x1]\n",
    "\n",
    "# Plot the data points\n",
    "# plt.plot(x1, y1, label='Pennylane(default.qubit)',color='darkblue')\n",
    "plt.plot(x1, y1,color='darkblue')\n",
    "\n",
    "# Add data points for dict1\n",
    "plt.scatter(x1, y1, color='darkred')\n",
    "\n",
    "\n",
    "# Add labels and title\n",
    "plt.xlabel('Number of Qubits')\n",
    "# plt.ylabel('Runtime(s)')\n",
    "plt.ylabel('Memory(MiB)')\n",
    "# plt.title('Qulacs(ConeSimulator,CPU) - Runtime')\n",
    "plt.title('Qulacs(ConeSimulator,CPU) - Memory')\n",
    "\n",
    "# Show the plot\n",
    "plt.show()"
   ]
  }
 ],
 "metadata": {
  "kernelspec": {
   "display_name": "Python 3",
   "language": "python",
   "name": "python3"
  },
  "language_info": {
   "codemirror_mode": {
    "name": "ipython",
    "version": 3
   },
   "file_extension": ".py",
   "mimetype": "text/x-python",
   "name": "python",
   "nbconvert_exporter": "python",
   "pygments_lexer": "ipython3",
   "version": "3.10.9"
  },
  "orig_nbformat": 4
 },
 "nbformat": 4,
 "nbformat_minor": 2
}
